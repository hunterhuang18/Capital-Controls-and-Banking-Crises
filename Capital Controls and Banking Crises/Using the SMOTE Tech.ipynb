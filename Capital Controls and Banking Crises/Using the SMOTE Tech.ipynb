{
 "cells": [
  {
   "cell_type": "code",
   "execution_count": 82,
   "metadata": {
    "executionInfo": {
     "elapsed": 22328,
     "status": "ok",
     "timestamp": 1744235661754,
     "user": {
      "displayName": "xizhen_huang",
      "userId": "01408731616131829965"
     },
     "user_tz": 420
    },
    "id": "uLUvY7F2nLy4"
   },
   "outputs": [],
   "source": [
    "import numpy as np\n",
    "import pandas as pd\n",
    "import matplotlib.pyplot as plt\n",
    "import seaborn as sns\n",
    "import warnings\n",
    "warnings.filterwarnings('ignore')\n",
    "\n",
    "from imblearn.over_sampling import SMOTE\n",
    "from sklearn.impute import KNNImputer\n",
    "from sklearn.preprocessing import StandardScaler\n",
    "\n",
    "\n",
    "import statsmodels.api as sm\n",
    "import statsmodels.api as sm\n",
    "from statsmodels.formula.api import logit"
   ]
  },
  {
   "cell_type": "markdown",
   "metadata": {
    "id": "0R3rj2U0MYdy"
   },
   "source": [
    "# 1. Import Data"
   ]
  },
  {
   "cell_type": "markdown",
   "metadata": {
    "id": "oqvYkb2bMdH8"
   },
   "source": [
    "## 1.1 Control Variables"
   ]
  },
  {
   "cell_type": "code",
   "execution_count": 86,
   "metadata": {
    "id": "6kXxm3ahB0hL"
   },
   "outputs": [],
   "source": [
    "def ConvertConVarTab(df, value_col_name):\n",
    "  df = pd.melt(df, id_vars = ['Country Name'], value_vars = [1995, 1996, 1997, 1998, 1999, 2000, 2001, 2002, 2003, 2004,  2005, 2006, 2007, 2008, 2009, 2010, 2011, 2012, 2013, 2014, 2015, 2016, 2017], var_name = 'year', value_name = value_col_name)\n",
    "  return df\n",
    "\n",
    "ConVarTabs = ['GDPGR', 'GDPPC' , 'IFR' , 'IR', 'XM' , 'M2R', 'CPGDP', 'CG', 'CPG', 'CPI']\n",
    "\n",
    "ConVar = pd.DataFrame()\n",
    "\n",
    "for i in range(len(ConVarTabs)):\n",
    "  df = pd.read_excel('Control Variables.xlsx', ConVarTabs[i])\n",
    "  df = ConvertConVarTab(df, ConVarTabs[i])\n",
    "  if i == 0:\n",
    "    ConVar = df\n",
    "  else:\n",
    "    ConVar = pd.concat([ConVar, df.iloc[:,2]], axis=1)\n"
   ]
  },
  {
   "cell_type": "code",
   "execution_count": 212,
   "metadata": {
    "colab": {
     "base_uri": "https://localhost:8080/"
    },
    "executionInfo": {
     "elapsed": 79,
     "status": "ok",
     "timestamp": 1744217165756,
     "user": {
      "displayName": "xizhen_huang",
      "userId": "01408731616131829965"
     },
     "user_tz": 420
    },
    "id": "_YHug860B1nS",
    "outputId": "9bcc7ba5-491d-4675-a62a-0b47cdafee58"
   },
   "outputs": [
    {
     "data": {
      "text/plain": [
       "31"
      ]
     },
     "execution_count": 212,
     "metadata": {},
     "output_type": "execute_result"
    }
   ],
   "source": [
    "ConVar['Country Name'].nunique()"
   ]
  },
  {
   "cell_type": "markdown",
   "metadata": {
    "id": "4m-BRCyCMinh"
   },
   "source": [
    "## 1.2 Capital Controls Variables"
   ]
  },
  {
   "cell_type": "code",
   "execution_count": 91,
   "metadata": {
    "id": "lRUMrrFHckqr"
   },
   "outputs": [],
   "source": [
    "CapConVar = pd.read_excel('F_CC.xlsx', 'kai and kao(self)')"
   ]
  },
  {
   "cell_type": "code",
   "execution_count": 92,
   "metadata": {
    "id": "5lhUyayUkvwl"
   },
   "outputs": [],
   "source": [
    "CapConVar = CapConVar.iloc[:, 2:]"
   ]
  },
  {
   "cell_type": "code",
   "execution_count": 93,
   "metadata": {
    "colab": {
     "base_uri": "https://localhost:8080/"
    },
    "executionInfo": {
     "elapsed": 60,
     "status": "ok",
     "timestamp": 1744217168072,
     "user": {
      "displayName": "xizhen_huang",
      "userId": "01408731616131829965"
     },
     "user_tz": 420
    },
    "id": "rxCTBexRWiQ4",
    "outputId": "d54cdaef-b9ef-4796-dbcd-72bc59a5b0de"
   },
   "outputs": [
    {
     "data": {
      "text/html": [
       "<div>\n",
       "<style scoped>\n",
       "    .dataframe tbody tr th:only-of-type {\n",
       "        vertical-align: middle;\n",
       "    }\n",
       "\n",
       "    .dataframe tbody tr th {\n",
       "        vertical-align: top;\n",
       "    }\n",
       "\n",
       "    .dataframe thead th {\n",
       "        text-align: right;\n",
       "    }\n",
       "</style>\n",
       "<table border=\"1\" class=\"dataframe\">\n",
       "  <thead>\n",
       "    <tr style=\"text-align: right;\">\n",
       "      <th></th>\n",
       "      <th>eqi</th>\n",
       "      <th>eqo</th>\n",
       "      <th>dbi</th>\n",
       "      <th>dbo</th>\n",
       "      <th>fii</th>\n",
       "      <th>fio</th>\n",
       "      <th>kai</th>\n",
       "      <th>kao</th>\n",
       "    </tr>\n",
       "  </thead>\n",
       "  <tbody>\n",
       "    <tr>\n",
       "      <th>0</th>\n",
       "      <td>0.0</td>\n",
       "      <td>1.0</td>\n",
       "      <td>0.0</td>\n",
       "      <td>2.0</td>\n",
       "      <td>0</td>\n",
       "      <td>0</td>\n",
       "      <td>0.000000</td>\n",
       "      <td>0.333333</td>\n",
       "    </tr>\n",
       "    <tr>\n",
       "      <th>1</th>\n",
       "      <td>0.0</td>\n",
       "      <td>1.0</td>\n",
       "      <td>0.0</td>\n",
       "      <td>0.0</td>\n",
       "      <td>0</td>\n",
       "      <td>0</td>\n",
       "      <td>0.777778</td>\n",
       "      <td>0.666667</td>\n",
       "    </tr>\n",
       "    <tr>\n",
       "      <th>2</th>\n",
       "      <td>0.0</td>\n",
       "      <td>1.0</td>\n",
       "      <td>0.0</td>\n",
       "      <td>1.0</td>\n",
       "      <td>0</td>\n",
       "      <td>0</td>\n",
       "      <td>0.500000</td>\n",
       "      <td>0.583333</td>\n",
       "    </tr>\n",
       "    <tr>\n",
       "      <th>3</th>\n",
       "      <td>0.0</td>\n",
       "      <td>1.0</td>\n",
       "      <td>0.0</td>\n",
       "      <td>1.5</td>\n",
       "      <td>1</td>\n",
       "      <td>0</td>\n",
       "      <td>1.000000</td>\n",
       "      <td>0.833333</td>\n",
       "    </tr>\n",
       "    <tr>\n",
       "      <th>4</th>\n",
       "      <td>0.0</td>\n",
       "      <td>1.0</td>\n",
       "      <td>0.0</td>\n",
       "      <td>1.5</td>\n",
       "      <td>1</td>\n",
       "      <td>0</td>\n",
       "      <td>1.000000</td>\n",
       "      <td>1.000000</td>\n",
       "    </tr>\n",
       "    <tr>\n",
       "      <th>...</th>\n",
       "      <td>...</td>\n",
       "      <td>...</td>\n",
       "      <td>...</td>\n",
       "      <td>...</td>\n",
       "      <td>...</td>\n",
       "      <td>...</td>\n",
       "      <td>...</td>\n",
       "      <td>...</td>\n",
       "    </tr>\n",
       "    <tr>\n",
       "      <th>708</th>\n",
       "      <td>0.0</td>\n",
       "      <td>0.0</td>\n",
       "      <td>0.0</td>\n",
       "      <td>0.0</td>\n",
       "      <td>0</td>\n",
       "      <td>0</td>\n",
       "      <td>0.700000</td>\n",
       "      <td>0.750000</td>\n",
       "    </tr>\n",
       "    <tr>\n",
       "      <th>709</th>\n",
       "      <td>0.0</td>\n",
       "      <td>0.0</td>\n",
       "      <td>0.0</td>\n",
       "      <td>0.0</td>\n",
       "      <td>0</td>\n",
       "      <td>0</td>\n",
       "      <td>0.650000</td>\n",
       "      <td>0.750000</td>\n",
       "    </tr>\n",
       "    <tr>\n",
       "      <th>710</th>\n",
       "      <td>0.0</td>\n",
       "      <td>0.0</td>\n",
       "      <td>0.0</td>\n",
       "      <td>0.0</td>\n",
       "      <td>0</td>\n",
       "      <td>0</td>\n",
       "      <td>0.700000</td>\n",
       "      <td>0.950000</td>\n",
       "    </tr>\n",
       "    <tr>\n",
       "      <th>711</th>\n",
       "      <td>0.0</td>\n",
       "      <td>0.0</td>\n",
       "      <td>0.0</td>\n",
       "      <td>0.0</td>\n",
       "      <td>0</td>\n",
       "      <td>0</td>\n",
       "      <td>0.850000</td>\n",
       "      <td>0.500000</td>\n",
       "    </tr>\n",
       "    <tr>\n",
       "      <th>712</th>\n",
       "      <td>0.0</td>\n",
       "      <td>0.0</td>\n",
       "      <td>0.0</td>\n",
       "      <td>0.0</td>\n",
       "      <td>0</td>\n",
       "      <td>0</td>\n",
       "      <td>0.000000</td>\n",
       "      <td>0.000000</td>\n",
       "    </tr>\n",
       "  </tbody>\n",
       "</table>\n",
       "<p>713 rows × 8 columns</p>\n",
       "</div>"
      ],
      "text/plain": [
       "     eqi  eqo  dbi  dbo  fii  fio       kai       kao\n",
       "0    0.0  1.0  0.0  2.0    0    0  0.000000  0.333333\n",
       "1    0.0  1.0  0.0  0.0    0    0  0.777778  0.666667\n",
       "2    0.0  1.0  0.0  1.0    0    0  0.500000  0.583333\n",
       "3    0.0  1.0  0.0  1.5    1    0  1.000000  0.833333\n",
       "4    0.0  1.0  0.0  1.5    1    0  1.000000  1.000000\n",
       "..   ...  ...  ...  ...  ...  ...       ...       ...\n",
       "708  0.0  0.0  0.0  0.0    0    0  0.700000  0.750000\n",
       "709  0.0  0.0  0.0  0.0    0    0  0.650000  0.750000\n",
       "710  0.0  0.0  0.0  0.0    0    0  0.700000  0.950000\n",
       "711  0.0  0.0  0.0  0.0    0    0  0.850000  0.500000\n",
       "712  0.0  0.0  0.0  0.0    0    0  0.000000  0.000000\n",
       "\n",
       "[713 rows x 8 columns]"
      ]
     },
     "execution_count": 93,
     "metadata": {},
     "output_type": "execute_result"
    }
   ],
   "source": [
    "CapConVar"
   ]
  },
  {
   "cell_type": "markdown",
   "metadata": {
    "id": "UNcJHKNJPuzz"
   },
   "source": [
    "## 1.3 Institutional Quality Variables"
   ]
  },
  {
   "cell_type": "code",
   "execution_count": 95,
   "metadata": {
    "id": "fQJaiSF3N-rl"
   },
   "outputs": [],
   "source": [
    "InsQuaVar = pd.read_excel('Institutional Quality Variables.xlsx', 'IQ')"
   ]
  },
  {
   "cell_type": "code",
   "execution_count": 96,
   "metadata": {
    "id": "ZGqqlcDwQnzC"
   },
   "outputs": [],
   "source": [
    "InsQuaVar = pd.melt(InsQuaVar, id_vars = ['Country Name'], value_vars = [1995, 1996, 1997, 1998, 1999, 2000, 2001, 2002, 2003, 2004,  2005, 2006, 2007, 2008, 2009, 2010, 2011, 2012, 2013, 2014, 2015, 2016, 2017], var_name = 'year', value_name ='INS')"
   ]
  },
  {
   "cell_type": "code",
   "execution_count": 97,
   "metadata": {
    "colab": {
     "base_uri": "https://localhost:8080/"
    },
    "executionInfo": {
     "elapsed": 35,
     "status": "ok",
     "timestamp": 1744217169257,
     "user": {
      "displayName": "xizhen_huang",
      "userId": "01408731616131829965"
     },
     "user_tz": 420
    },
    "id": "_BxuA8Z4QtvM",
    "outputId": "03fd9a58-9fec-4983-e3a4-d0173e05dc1d"
   },
   "outputs": [
    {
     "data": {
      "text/html": [
       "<div>\n",
       "<style scoped>\n",
       "    .dataframe tbody tr th:only-of-type {\n",
       "        vertical-align: middle;\n",
       "    }\n",
       "\n",
       "    .dataframe tbody tr th {\n",
       "        vertical-align: top;\n",
       "    }\n",
       "\n",
       "    .dataframe thead th {\n",
       "        text-align: right;\n",
       "    }\n",
       "</style>\n",
       "<table border=\"1\" class=\"dataframe\">\n",
       "  <thead>\n",
       "    <tr style=\"text-align: right;\">\n",
       "      <th></th>\n",
       "      <th>Country Name</th>\n",
       "      <th>year</th>\n",
       "      <th>INS</th>\n",
       "    </tr>\n",
       "  </thead>\n",
       "  <tbody>\n",
       "    <tr>\n",
       "      <th>0</th>\n",
       "      <td>Argentina</td>\n",
       "      <td>1995</td>\n",
       "      <td>2.000000</td>\n",
       "    </tr>\n",
       "    <tr>\n",
       "      <th>1</th>\n",
       "      <td>Brazil</td>\n",
       "      <td>1995</td>\n",
       "      <td>3.000000</td>\n",
       "    </tr>\n",
       "    <tr>\n",
       "      <th>2</th>\n",
       "      <td>Bulgaria</td>\n",
       "      <td>1995</td>\n",
       "      <td>2.000000</td>\n",
       "    </tr>\n",
       "    <tr>\n",
       "      <th>3</th>\n",
       "      <td>Chile</td>\n",
       "      <td>1995</td>\n",
       "      <td>2.000000</td>\n",
       "    </tr>\n",
       "    <tr>\n",
       "      <th>4</th>\n",
       "      <td>China</td>\n",
       "      <td>1995</td>\n",
       "      <td>2.666667</td>\n",
       "    </tr>\n",
       "    <tr>\n",
       "      <th>...</th>\n",
       "      <td>...</td>\n",
       "      <td>...</td>\n",
       "      <td>...</td>\n",
       "    </tr>\n",
       "    <tr>\n",
       "      <th>708</th>\n",
       "      <td>Thailand</td>\n",
       "      <td>2017</td>\n",
       "      <td>2.000000</td>\n",
       "    </tr>\n",
       "    <tr>\n",
       "      <th>709</th>\n",
       "      <td>Turkiye</td>\n",
       "      <td>2017</td>\n",
       "      <td>2.000000</td>\n",
       "    </tr>\n",
       "    <tr>\n",
       "      <th>710</th>\n",
       "      <td>Ukraine</td>\n",
       "      <td>2017</td>\n",
       "      <td>1.000000</td>\n",
       "    </tr>\n",
       "    <tr>\n",
       "      <th>711</th>\n",
       "      <td>Venezuela, RB</td>\n",
       "      <td>2017</td>\n",
       "      <td>1.000000</td>\n",
       "    </tr>\n",
       "    <tr>\n",
       "      <th>712</th>\n",
       "      <td>Zimbabwe</td>\n",
       "      <td>2017</td>\n",
       "      <td>1.500000</td>\n",
       "    </tr>\n",
       "  </tbody>\n",
       "</table>\n",
       "<p>713 rows × 3 columns</p>\n",
       "</div>"
      ],
      "text/plain": [
       "      Country Name  year       INS\n",
       "0        Argentina  1995  2.000000\n",
       "1           Brazil  1995  3.000000\n",
       "2         Bulgaria  1995  2.000000\n",
       "3            Chile  1995  2.000000\n",
       "4            China  1995  2.666667\n",
       "..             ...   ...       ...\n",
       "708       Thailand  2017  2.000000\n",
       "709        Turkiye  2017  2.000000\n",
       "710        Ukraine  2017  1.000000\n",
       "711  Venezuela, RB  2017  1.000000\n",
       "712       Zimbabwe  2017  1.500000\n",
       "\n",
       "[713 rows x 3 columns]"
      ]
     },
     "execution_count": 97,
     "metadata": {},
     "output_type": "execute_result"
    }
   ],
   "source": [
    "InsQuaVar"
   ]
  },
  {
   "cell_type": "markdown",
   "metadata": {
    "id": "yNjO4iDCSkGO"
   },
   "source": [
    "## 1.4 Banking Crises Variables (Dependent Variables) And Generate The Completed Dataframe\n"
   ]
  },
  {
   "cell_type": "code",
   "execution_count": 105,
   "metadata": {
    "id": "2VHfhaC9RDFm"
   },
   "outputs": [],
   "source": [
    "BanCriVar = pd.read_excel('L Banking Crises New.xlsx', 'BC 4 categories')"
   ]
  },
  {
   "cell_type": "code",
   "execution_count": 107,
   "metadata": {
    "colab": {
     "base_uri": "https://localhost:8080/"
    },
    "executionInfo": {
     "elapsed": 49,
     "status": "ok",
     "timestamp": 1744217169960,
     "user": {
      "displayName": "xizhen_huang",
      "userId": "01408731616131829965"
     },
     "user_tz": 420
    },
    "id": "zjsXlbpOW5Kd",
    "outputId": "a91249c7-3c4b-4a6f-fad3-698eb78217d5"
   },
   "outputs": [
    {
     "data": {
      "text/html": [
       "<div>\n",
       "<style scoped>\n",
       "    .dataframe tbody tr th:only-of-type {\n",
       "        vertical-align: middle;\n",
       "    }\n",
       "\n",
       "    .dataframe tbody tr th {\n",
       "        vertical-align: top;\n",
       "    }\n",
       "\n",
       "    .dataframe thead th {\n",
       "        text-align: right;\n",
       "    }\n",
       "</style>\n",
       "<table border=\"1\" class=\"dataframe\">\n",
       "  <thead>\n",
       "    <tr style=\"text-align: right;\">\n",
       "      <th></th>\n",
       "      <th>country</th>\n",
       "      <th>year</th>\n",
       "      <th>LBC</th>\n",
       "      <th>LBC_2</th>\n",
       "      <th>LBC_3</th>\n",
       "      <th>LBC_4</th>\n",
       "      <th>RBC</th>\n",
       "    </tr>\n",
       "  </thead>\n",
       "  <tbody>\n",
       "    <tr>\n",
       "      <th>0</th>\n",
       "      <td>Argentina</td>\n",
       "      <td>1995</td>\n",
       "      <td>NaN</td>\n",
       "      <td>NaN</td>\n",
       "      <td>NaN</td>\n",
       "      <td>NaN</td>\n",
       "      <td>NaN</td>\n",
       "    </tr>\n",
       "    <tr>\n",
       "      <th>1</th>\n",
       "      <td>Brazil</td>\n",
       "      <td>1995</td>\n",
       "      <td>NaN</td>\n",
       "      <td>NaN</td>\n",
       "      <td>NaN</td>\n",
       "      <td>NaN</td>\n",
       "      <td>NaN</td>\n",
       "    </tr>\n",
       "    <tr>\n",
       "      <th>2</th>\n",
       "      <td>Bulgaria</td>\n",
       "      <td>1995</td>\n",
       "      <td>NaN</td>\n",
       "      <td>NaN</td>\n",
       "      <td>NaN</td>\n",
       "      <td>NaN</td>\n",
       "      <td>NaN</td>\n",
       "    </tr>\n",
       "    <tr>\n",
       "      <th>3</th>\n",
       "      <td>Chile</td>\n",
       "      <td>1995</td>\n",
       "      <td>NaN</td>\n",
       "      <td>NaN</td>\n",
       "      <td>NaN</td>\n",
       "      <td>NaN</td>\n",
       "      <td>NaN</td>\n",
       "    </tr>\n",
       "    <tr>\n",
       "      <th>4</th>\n",
       "      <td>China</td>\n",
       "      <td>1995</td>\n",
       "      <td>NaN</td>\n",
       "      <td>NaN</td>\n",
       "      <td>NaN</td>\n",
       "      <td>NaN</td>\n",
       "      <td>NaN</td>\n",
       "    </tr>\n",
       "    <tr>\n",
       "      <th>...</th>\n",
       "      <td>...</td>\n",
       "      <td>...</td>\n",
       "      <td>...</td>\n",
       "      <td>...</td>\n",
       "      <td>...</td>\n",
       "      <td>...</td>\n",
       "      <td>...</td>\n",
       "    </tr>\n",
       "    <tr>\n",
       "      <th>708</th>\n",
       "      <td>Thailand</td>\n",
       "      <td>2017</td>\n",
       "      <td>0.0</td>\n",
       "      <td>0.0</td>\n",
       "      <td>0.0</td>\n",
       "      <td>0.0</td>\n",
       "      <td>NaN</td>\n",
       "    </tr>\n",
       "    <tr>\n",
       "      <th>709</th>\n",
       "      <td>Turkey</td>\n",
       "      <td>2017</td>\n",
       "      <td>0.0</td>\n",
       "      <td>0.0</td>\n",
       "      <td>0.0</td>\n",
       "      <td>0.0</td>\n",
       "      <td>NaN</td>\n",
       "    </tr>\n",
       "    <tr>\n",
       "      <th>710</th>\n",
       "      <td>Ukraine</td>\n",
       "      <td>2017</td>\n",
       "      <td>0.0</td>\n",
       "      <td>0.0</td>\n",
       "      <td>0.0</td>\n",
       "      <td>0.0</td>\n",
       "      <td>NaN</td>\n",
       "    </tr>\n",
       "    <tr>\n",
       "      <th>711</th>\n",
       "      <td>Venezuela</td>\n",
       "      <td>2017</td>\n",
       "      <td>0.0</td>\n",
       "      <td>0.0</td>\n",
       "      <td>0.0</td>\n",
       "      <td>0.0</td>\n",
       "      <td>NaN</td>\n",
       "    </tr>\n",
       "    <tr>\n",
       "      <th>712</th>\n",
       "      <td>Zimbabwe</td>\n",
       "      <td>2017</td>\n",
       "      <td>0.0</td>\n",
       "      <td>0.0</td>\n",
       "      <td>0.0</td>\n",
       "      <td>0.0</td>\n",
       "      <td>NaN</td>\n",
       "    </tr>\n",
       "  </tbody>\n",
       "</table>\n",
       "<p>713 rows × 7 columns</p>\n",
       "</div>"
      ],
      "text/plain": [
       "       country  year  LBC  LBC_2  LBC_3  LBC_4  RBC\n",
       "0    Argentina  1995  NaN    NaN    NaN    NaN  NaN\n",
       "1       Brazil  1995  NaN    NaN    NaN    NaN  NaN\n",
       "2     Bulgaria  1995  NaN    NaN    NaN    NaN  NaN\n",
       "3        Chile  1995  NaN    NaN    NaN    NaN  NaN\n",
       "4        China  1995  NaN    NaN    NaN    NaN  NaN\n",
       "..         ...   ...  ...    ...    ...    ...  ...\n",
       "708   Thailand  2017  0.0    0.0    0.0    0.0  NaN\n",
       "709     Turkey  2017  0.0    0.0    0.0    0.0  NaN\n",
       "710    Ukraine  2017  0.0    0.0    0.0    0.0  NaN\n",
       "711  Venezuela  2017  0.0    0.0    0.0    0.0  NaN\n",
       "712   Zimbabwe  2017  0.0    0.0    0.0    0.0  NaN\n",
       "\n",
       "[713 rows x 7 columns]"
      ]
     },
     "execution_count": 107,
     "metadata": {},
     "output_type": "execute_result"
    }
   ],
   "source": [
    "BanCriVar"
   ]
  },
  {
   "cell_type": "code",
   "execution_count": 109,
   "metadata": {
    "id": "LT6-Bd7ZW6le"
   },
   "outputs": [],
   "source": [
    "banking_crises_data = pd.concat([BanCriVar, CapConVar, InsQuaVar.drop(columns = ['Country Name', 'year']), ConVar.drop(columns = ['Country Name', 'year'])], axis = 1)"
   ]
  },
  {
   "cell_type": "code",
   "execution_count": 111,
   "metadata": {
    "id": "FVK-OFVUY-8R"
   },
   "outputs": [],
   "source": [
    "banking_crises_data = banking_crises_data.sort_values(by = ['country', 'year'])"
   ]
  },
  {
   "cell_type": "code",
   "execution_count": 113,
   "metadata": {
    "colab": {
     "base_uri": "https://localhost:8080/"
    },
    "executionInfo": {
     "elapsed": 6,
     "status": "ok",
     "timestamp": 1744217170045,
     "user": {
      "displayName": "xizhen_huang",
      "userId": "01408731616131829965"
     },
     "user_tz": 420
    },
    "id": "lxO4j5xwjw3W",
    "outputId": "83d1b3e3-8ac7-4b5b-9555-586fdc3b73ad"
   },
   "outputs": [
    {
     "data": {
      "text/plain": [
       "Index(['country', 'year', 'LBC', 'LBC_2', 'LBC_3', 'LBC_4', 'RBC', 'eqi',\n",
       "       'eqo', 'dbi', 'dbo', 'fii', 'fio', 'kai', 'kao', 'INS', 'GDPGR',\n",
       "       'GDPPC', 'IFR', 'IR', 'XM', 'M2R', 'CPGDP', 'CG', 'CPG', 'CPI'],\n",
       "      dtype='object')"
      ]
     },
     "execution_count": 113,
     "metadata": {},
     "output_type": "execute_result"
    }
   ],
   "source": [
    "banking_crises_data.columns"
   ]
  },
  {
   "cell_type": "code",
   "execution_count": 115,
   "metadata": {
    "id": "pgz7hrz5kcSp"
   },
   "outputs": [],
   "source": [
    "pd.options.display.max_columns = None"
   ]
  },
  {
   "cell_type": "code",
   "execution_count": 117,
   "metadata": {
    "colab": {
     "base_uri": "https://localhost:8080/"
    },
    "executionInfo": {
     "elapsed": 16,
     "status": "ok",
     "timestamp": 1744217170062,
     "user": {
      "displayName": "xizhen_huang",
      "userId": "01408731616131829965"
     },
     "user_tz": 420
    },
    "id": "vlFwgDdGkuSl",
    "outputId": "e49e50e9-44d6-4b9b-ecd4-abf71682b3d1"
   },
   "outputs": [
    {
     "data": {
      "text/html": [
       "<div>\n",
       "<style scoped>\n",
       "    .dataframe tbody tr th:only-of-type {\n",
       "        vertical-align: middle;\n",
       "    }\n",
       "\n",
       "    .dataframe tbody tr th {\n",
       "        vertical-align: top;\n",
       "    }\n",
       "\n",
       "    .dataframe thead th {\n",
       "        text-align: right;\n",
       "    }\n",
       "</style>\n",
       "<table border=\"1\" class=\"dataframe\">\n",
       "  <thead>\n",
       "    <tr style=\"text-align: right;\">\n",
       "      <th></th>\n",
       "      <th>country</th>\n",
       "      <th>year</th>\n",
       "      <th>LBC</th>\n",
       "      <th>LBC_2</th>\n",
       "      <th>LBC_3</th>\n",
       "      <th>LBC_4</th>\n",
       "      <th>RBC</th>\n",
       "      <th>eqi</th>\n",
       "      <th>eqo</th>\n",
       "      <th>dbi</th>\n",
       "      <th>dbo</th>\n",
       "      <th>fii</th>\n",
       "      <th>fio</th>\n",
       "      <th>kai</th>\n",
       "      <th>kao</th>\n",
       "      <th>INS</th>\n",
       "      <th>GDPGR</th>\n",
       "      <th>GDPPC</th>\n",
       "      <th>IFR</th>\n",
       "      <th>IR</th>\n",
       "      <th>XM</th>\n",
       "      <th>M2R</th>\n",
       "      <th>CPGDP</th>\n",
       "      <th>CG</th>\n",
       "      <th>CPG</th>\n",
       "      <th>CPI</th>\n",
       "    </tr>\n",
       "  </thead>\n",
       "  <tbody>\n",
       "    <tr>\n",
       "      <th>0</th>\n",
       "      <td>Argentina</td>\n",
       "      <td>1995</td>\n",
       "      <td>NaN</td>\n",
       "      <td>NaN</td>\n",
       "      <td>NaN</td>\n",
       "      <td>NaN</td>\n",
       "      <td>NaN</td>\n",
       "      <td>0.0</td>\n",
       "      <td>1.0</td>\n",
       "      <td>0.0</td>\n",
       "      <td>2.0</td>\n",
       "      <td>0</td>\n",
       "      <td>0</td>\n",
       "      <td>0.0</td>\n",
       "      <td>0.333333</td>\n",
       "      <td>2.000000</td>\n",
       "      <td>-2.845210</td>\n",
       "      <td>10003.091689</td>\n",
       "      <td>0.036091</td>\n",
       "      <td>14.23</td>\n",
       "      <td>-1.983460</td>\n",
       "      <td>3.252356</td>\n",
       "      <td>19.679623</td>\n",
       "      <td>-0.319970</td>\n",
       "      <td>NaN</td>\n",
       "      <td>38.8016</td>\n",
       "    </tr>\n",
       "    <tr>\n",
       "      <th>31</th>\n",
       "      <td>Argentina</td>\n",
       "      <td>1996</td>\n",
       "      <td>0.0</td>\n",
       "      <td>NaN</td>\n",
       "      <td>1.0</td>\n",
       "      <td>NaN</td>\n",
       "      <td>1.0</td>\n",
       "      <td>1.0</td>\n",
       "      <td>1.0</td>\n",
       "      <td>0.0</td>\n",
       "      <td>2.5</td>\n",
       "      <td>1</td>\n",
       "      <td>1</td>\n",
       "      <td>0.0</td>\n",
       "      <td>0.111111</td>\n",
       "      <td>2.000000</td>\n",
       "      <td>5.526690</td>\n",
       "      <td>10430.682493</td>\n",
       "      <td>0.000544</td>\n",
       "      <td>10.57</td>\n",
       "      <td>-2.487593</td>\n",
       "      <td>3.131601</td>\n",
       "      <td>19.876043</td>\n",
       "      <td>0.226394</td>\n",
       "      <td>0.196420</td>\n",
       "      <td>38.8227</td>\n",
       "    </tr>\n",
       "    <tr>\n",
       "      <th>62</th>\n",
       "      <td>Argentina</td>\n",
       "      <td>1997</td>\n",
       "      <td>0.0</td>\n",
       "      <td>NaN</td>\n",
       "      <td>1.0</td>\n",
       "      <td>0.0</td>\n",
       "      <td>0.0</td>\n",
       "      <td>0.0</td>\n",
       "      <td>0.0</td>\n",
       "      <td>1.0</td>\n",
       "      <td>0.0</td>\n",
       "      <td>0</td>\n",
       "      <td>0</td>\n",
       "      <td>0.0</td>\n",
       "      <td>0.200000</td>\n",
       "      <td>2.416667</td>\n",
       "      <td>8.111047</td>\n",
       "      <td>11146.721034</td>\n",
       "      <td>0.003279</td>\n",
       "      <td>9.75</td>\n",
       "      <td>-4.144680</td>\n",
       "      <td>3.456932</td>\n",
       "      <td>21.556936</td>\n",
       "      <td>1.746457</td>\n",
       "      <td>1.680893</td>\n",
       "      <td>38.9500</td>\n",
       "    </tr>\n",
       "    <tr>\n",
       "      <th>93</th>\n",
       "      <td>Argentina</td>\n",
       "      <td>1998</td>\n",
       "      <td>0.0</td>\n",
       "      <td>0.0</td>\n",
       "      <td>0.0</td>\n",
       "      <td>0.0</td>\n",
       "      <td>0.0</td>\n",
       "      <td>2.0</td>\n",
       "      <td>2.0</td>\n",
       "      <td>6.0</td>\n",
       "      <td>6.0</td>\n",
       "      <td>1</td>\n",
       "      <td>1</td>\n",
       "      <td>0.1</td>\n",
       "      <td>0.250000</td>\n",
       "      <td>3.000000</td>\n",
       "      <td>3.850179</td>\n",
       "      <td>11445.564938</td>\n",
       "      <td>0.006644</td>\n",
       "      <td>12.55</td>\n",
       "      <td>-4.844316</td>\n",
       "      <td>3.445913</td>\n",
       "      <td>23.590991</td>\n",
       "      <td>2.219840</td>\n",
       "      <td>2.034055</td>\n",
       "      <td>39.2088</td>\n",
       "    </tr>\n",
       "    <tr>\n",
       "      <th>124</th>\n",
       "      <td>Argentina</td>\n",
       "      <td>1999</td>\n",
       "      <td>0.0</td>\n",
       "      <td>0.0</td>\n",
       "      <td>0.0</td>\n",
       "      <td>0.0</td>\n",
       "      <td>0.0</td>\n",
       "      <td>2.0</td>\n",
       "      <td>1.0</td>\n",
       "      <td>5.0</td>\n",
       "      <td>3.0</td>\n",
       "      <td>1</td>\n",
       "      <td>0</td>\n",
       "      <td>0.1</td>\n",
       "      <td>0.250000</td>\n",
       "      <td>3.000000</td>\n",
       "      <td>-3.385457</td>\n",
       "      <td>10935.644595</td>\n",
       "      <td>-0.018172</td>\n",
       "      <td>13.12</td>\n",
       "      <td>-4.212295</td>\n",
       "      <td>3.383283</td>\n",
       "      <td>24.136101</td>\n",
       "      <td>0.740045</td>\n",
       "      <td>0.545110</td>\n",
       "      <td>38.4963</td>\n",
       "    </tr>\n",
       "  </tbody>\n",
       "</table>\n",
       "</div>"
      ],
      "text/plain": [
       "       country  year  LBC  LBC_2  LBC_3  LBC_4  RBC  eqi  eqo  dbi  dbo  fii  \\\n",
       "0    Argentina  1995  NaN    NaN    NaN    NaN  NaN  0.0  1.0  0.0  2.0    0   \n",
       "31   Argentina  1996  0.0    NaN    1.0    NaN  1.0  1.0  1.0  0.0  2.5    1   \n",
       "62   Argentina  1997  0.0    NaN    1.0    0.0  0.0  0.0  0.0  1.0  0.0    0   \n",
       "93   Argentina  1998  0.0    0.0    0.0    0.0  0.0  2.0  2.0  6.0  6.0    1   \n",
       "124  Argentina  1999  0.0    0.0    0.0    0.0  0.0  2.0  1.0  5.0  3.0    1   \n",
       "\n",
       "     fio  kai       kao       INS     GDPGR         GDPPC       IFR     IR  \\\n",
       "0      0  0.0  0.333333  2.000000 -2.845210  10003.091689  0.036091  14.23   \n",
       "31     1  0.0  0.111111  2.000000  5.526690  10430.682493  0.000544  10.57   \n",
       "62     0  0.0  0.200000  2.416667  8.111047  11146.721034  0.003279   9.75   \n",
       "93     1  0.1  0.250000  3.000000  3.850179  11445.564938  0.006644  12.55   \n",
       "124    0  0.1  0.250000  3.000000 -3.385457  10935.644595 -0.018172  13.12   \n",
       "\n",
       "           XM       M2R      CPGDP        CG       CPG      CPI  \n",
       "0   -1.983460  3.252356  19.679623 -0.319970       NaN  38.8016  \n",
       "31  -2.487593  3.131601  19.876043  0.226394  0.196420  38.8227  \n",
       "62  -4.144680  3.456932  21.556936  1.746457  1.680893  38.9500  \n",
       "93  -4.844316  3.445913  23.590991  2.219840  2.034055  39.2088  \n",
       "124 -4.212295  3.383283  24.136101  0.740045  0.545110  38.4963  "
      ]
     },
     "execution_count": 117,
     "metadata": {},
     "output_type": "execute_result"
    }
   ],
   "source": [
    "banking_crises_data.head()"
   ]
  },
  {
   "cell_type": "markdown",
   "metadata": {
    "id": "z7NlbNAslFOR"
   },
   "source": [
    "# 2. Preprocessing the Data"
   ]
  },
  {
   "cell_type": "markdown",
   "metadata": {
    "id": "4P6ux7G-lPwL"
   },
   "source": [
    "## 2.1 Drop Columns"
   ]
  },
  {
   "cell_type": "code",
   "execution_count": 121,
   "metadata": {
    "id": "nrvTA_nckv8d"
   },
   "outputs": [],
   "source": [
    "## Drop Dependent Variables other than LBC_2\n",
    "\n",
    "df_prep = banking_crises_data.copy()\n",
    "\n",
    "df_prep.drop(['LBC', 'LBC_3', 'LBC_4', 'RBC'], axis = 1, inplace = True)"
   ]
  },
  {
   "cell_type": "code",
   "execution_count": 123,
   "metadata": {
    "colab": {
     "base_uri": "https://localhost:8080/"
    },
    "executionInfo": {
     "elapsed": 46,
     "status": "ok",
     "timestamp": 1744217173821,
     "user": {
      "displayName": "xizhen_huang",
      "userId": "01408731616131829965"
     },
     "user_tz": 420
    },
    "id": "1Dw4jUK8l802",
    "outputId": "d257787b-cfe6-4563-d746-b9a64bc70743"
   },
   "outputs": [
    {
     "name": "stdout",
     "output_type": "stream",
     "text": [
      "Highly correlated pairs (above threshold of 0.8):\n",
      "('eqi', 'dbi') with correlation 0.8413804716968807\n",
      "('eqo', 'dbo') with correlation 0.8668425473478465\n",
      "('dbi', 'eqi') with correlation 0.8413804716968807\n",
      "('dbi', 'dbo') with correlation 0.8816343466105484\n",
      "('dbo', 'eqo') with correlation 0.8668425473478465\n",
      "('dbo', 'dbi') with correlation 0.8816343466105484\n",
      "('kai', 'kao') with correlation 0.8803936250116976\n",
      "('kao', 'kai') with correlation 0.8803936250116976\n",
      "('IFR', 'M2R') with correlation 0.9995743125869728\n",
      "('IFR', 'CPI') with correlation 0.9995786433537571\n",
      "('M2R', 'IFR') with correlation 0.9995743125869728\n",
      "('M2R', 'CPI') with correlation 0.9999985021863395\n",
      "('CPI', 'IFR') with correlation 0.9995786433537571\n",
      "('CPI', 'M2R') with correlation 0.9999985021863395\n"
     ]
    }
   ],
   "source": [
    "## Check the multilinearity of variables and drop those having perfect linearity\n",
    "\n",
    "cor_matrix_X = df_prep.iloc[:, 2:].corr()\n",
    "\n",
    "threshold = 0.8  # Set the threshold\n",
    "high_corr = ((cor_matrix_X.abs() >= threshold) & (cor_matrix_X.abs() < 1.0))\n",
    "\n",
    "# Filter and find features with high correlation\n",
    "high_corr_pairs = [(i, j) for i in high_corr.columns for j in high_corr.index if high_corr.loc[i, j]]\n",
    "print(\"Highly correlated pairs (above threshold of {}):\".format(threshold))\n",
    "for pair in high_corr_pairs:\n",
    "    print(pair, \"with correlation\", cor_matrix_X.loc[pair[0], pair[1]])"
   ]
  },
  {
   "cell_type": "code",
   "execution_count": 125,
   "metadata": {
    "id": "D3c2MxSNmaX9"
   },
   "outputs": [],
   "source": [
    "## Drop the variables 'IFR' and 'CPI'\n",
    "\n",
    "df_prep.drop(['IFR', 'CPI'], axis = 1, inplace = True)"
   ]
  },
  {
   "cell_type": "markdown",
   "metadata": {
    "id": "9-1CXErVo9kA"
   },
   "source": [
    "## 2.2 Dealing with Missing Values"
   ]
  },
  {
   "cell_type": "code",
   "execution_count": 128,
   "metadata": {
    "colab": {
     "base_uri": "https://localhost:8080/"
    },
    "executionInfo": {
     "elapsed": 5,
     "status": "ok",
     "timestamp": 1744217175114,
     "user": {
      "displayName": "xizhen_huang",
      "userId": "01408731616131829965"
     },
     "user_tz": 420
    },
    "id": "r0f4KtF7o75t",
    "outputId": "0390769d-eb25-4347-b407-04e2c3718f06"
   },
   "outputs": [
    {
     "data": {
      "text/plain": [
       "country     0\n",
       "year        0\n",
       "LBC_2      76\n",
       "eqi         0\n",
       "eqo         0\n",
       "dbi         0\n",
       "dbo         0\n",
       "fii         0\n",
       "fio         0\n",
       "kai         0\n",
       "kao         0\n",
       "INS         0\n",
       "GDPGR       0\n",
       "GDPPC       0\n",
       "IR         47\n",
       "XM          0\n",
       "M2R         5\n",
       "CPGDP       6\n",
       "CG         14\n",
       "CPG        68\n",
       "dtype: int64"
      ]
     },
     "execution_count": 128,
     "metadata": {},
     "output_type": "execute_result"
    }
   ],
   "source": [
    "df_prep.isnull().sum()"
   ]
  },
  {
   "cell_type": "code",
   "execution_count": 130,
   "metadata": {
    "id": "YFr7bzqfpFVk"
   },
   "outputs": [],
   "source": [
    "## Using forward and backward imputation for the variables with missing values\n",
    "\n",
    "df_prep.set_index(['country', 'year'], inplace=True)\n",
    "\n",
    "expVar_missvalues = ['IR', 'M2R', 'CPGDP', 'CG', 'CPG']\n",
    "for i in expVar_missvalues:\n",
    "  df_prep[i] = df_prep.groupby('country')[i].ffill()\n",
    "  df_prep[i] = df_prep.groupby('country')[i].bfill()"
   ]
  },
  {
   "cell_type": "code",
   "execution_count": 132,
   "metadata": {
    "id": "oZ-RKa2apuBH"
   },
   "outputs": [],
   "source": [
    "## Drop the NA in LBC_2\n",
    "\n",
    "df_prep.dropna(inplace = True)"
   ]
  },
  {
   "cell_type": "markdown",
   "metadata": {
    "id": "QoY8J4K0q4zX"
   },
   "source": [
    "## Create Lag for All Independent Variables"
   ]
  },
  {
   "cell_type": "code",
   "execution_count": 135,
   "metadata": {
    "id": "eqeKXXDXp80k"
   },
   "outputs": [],
   "source": [
    "X = ['eqi', 'eqo', 'dbi', 'dbo', 'fii', 'fio', 'kai', 'kao', 'INS', 'GDPGR',\n",
    "       'GDPPC', 'IR', 'XM', 'M2R', 'CPGDP', 'CG', 'CPG']\n",
    "\n",
    "for i in X:\n",
    "  df_prep[f'lag_{i}'] = df_prep.groupby('country')[i].shift(1)\n",
    "df_prep.dropna(inplace=True)"
   ]
  },
  {
   "cell_type": "code",
   "execution_count": 137,
   "metadata": {
    "id": "AE_Dqwsbx5-N"
   },
   "outputs": [],
   "source": [
    "## Drop the original X\n",
    "\n",
    "df_prep.drop(X, axis = 1, inplace = True)"
   ]
  },
  {
   "cell_type": "code",
   "execution_count": null,
   "metadata": {},
   "outputs": [],
   "source": []
  },
  {
   "cell_type": "markdown",
   "metadata": {
    "id": "6MmKjvHnBXzf"
   },
   "source": [
    "## SMOTE"
   ]
  },
  {
   "cell_type": "code",
   "execution_count": 140,
   "metadata": {
    "colab": {
     "base_uri": "https://localhost:8080/",
     "height": 564
    },
    "executionInfo": {
     "elapsed": 728,
     "status": "ok",
     "timestamp": 1744217377325,
     "user": {
      "displayName": "xizhen_huang",
      "userId": "01408731616131829965"
     },
     "user_tz": 420
    },
    "id": "T58KE98p5Ttc",
    "outputId": "3fbc5024-35e6-46d4-96d4-8d9967793663"
   },
   "outputs": [
    {
     "data": {
      "image/png": "[encoded data removed]",
      "text/plain": [
       "<Figure size 800x600 with 1 Axes>"
      ]
     },
     "metadata": {},
     "output_type": "display_data"
    }
   ],
   "source": [
    "plt.figure(figsize=(8, 6))\n",
    "ax = sns.countplot(x = df_prep['LBC_2'])\n",
    "for p in ax.patches:\n",
    "    ax.annotate(f'{p.get_height()}', (p.get_x() + p.get_width() / 2., p.get_height()),\n",
    "                ha='center', va='center', fontsize=11, color='gray', xytext=(0, 5),\n",
    "                textcoords='offset points')\n",
    "plt.title(' Number of Observations with and with No Experience of Banking Crises')\n",
    "plt.xlabel('Banking Crisis')\n",
    "plt.ylabel('Count')\n",
    "plt.xticks([0, 1], ['No', 'Yes'])\n",
    "plt.show()"
   ]
  },
  {
   "cell_type": "code",
   "execution_count": 142,
   "metadata": {
    "id": "q32jLC055Ttc"
   },
   "outputs": [],
   "source": [
    "## We use smote tech to upsample the minority class\n",
    "\n",
    "smote = SMOTE(sampling_strategy = 'minority', random_state = 101)\n",
    "X = df_prep.drop(columns = ['LBC_2'])\n",
    "y = df_prep['LBC_2']\n",
    "X_res, y_res = smote.fit_resample(X, y)\n",
    "df_prep_res = pd.concat([X_res, y_res], axis = 1)"
   ]
  },
  {
   "cell_type": "code",
   "execution_count": 144,
   "metadata": {},
   "outputs": [
    {
     "data": {
      "image/png": "[encoded data removed]",
      "text/plain": [
       "<Figure size 800x600 with 1 Axes>"
      ]
     },
     "metadata": {},
     "output_type": "display_data"
    }
   ],
   "source": [
    "plt.figure(figsize=(8, 6))\n",
    "ax = sns.countplot(x = df_prep_res['LBC_2'])\n",
    "for p in ax.patches:\n",
    "    ax.annotate(f'{p.get_height()}', (p.get_x() + p.get_width() / 2., p.get_height()),\n",
    "                ha='center', va='center', fontsize=11, color='gray', xytext=(0, 5),\n",
    "                textcoords='offset points')\n",
    "plt.title(' Number of Observations with and with No Experience of Banking Crises')\n",
    "plt.xlabel('Banking Crisis')\n",
    "plt.ylabel('Count')\n",
    "plt.xticks([0, 1], ['No', 'Yes'])\n",
    "plt.show()"
   ]
  },
  {
   "cell_type": "markdown",
   "metadata": {
    "id": "acDHQrKrCcP_"
   },
   "source": [
    "## 2.3 Scale the X"
   ]
  },
  {
   "cell_type": "code",
   "execution_count": 147,
   "metadata": {
    "id": "TyBpoT-DCbH7"
   },
   "outputs": [],
   "source": [
    "## Using StandardScaler to Partial Normalize The X\n",
    "\n",
    "partial_X = df_prep_res[['lag_GDPGR', 'lag_GDPPC', 'lag_IR', 'lag_XM', 'lag_M2R', 'lag_CPGDP', 'lag_CG', 'lag_CPG', 'lag_eqi', 'lag_eqo', 'lag_dbi', 'lag_dbo', 'lag_fii', 'lag_fio',\n",
    "       'lag_kai', 'lag_kao']]\n",
    "y = df_prep_res['LBC_2']\n",
    "\n",
    "scalar = StandardScaler()\n",
    "X_scaled = scalar.fit_transform(partial_X)\n",
    "\n",
    "\n",
    "df_prep_scaled = pd.concat([df_prep_res[['lag_INS']], pd.DataFrame(X_scaled, columns = partial_X.columns), y], axis = 1)\n",
    "\n",
    "\n",
    "\n",
    "\n"
   ]
  },
  {
   "cell_type": "code",
   "execution_count": 206,
   "metadata": {
    "colab": {
     "base_uri": "https://localhost:8080/"
    },
    "executionInfo": {
     "elapsed": 279,
     "status": "ok",
     "timestamp": 1744218172260,
     "user": {
      "displayName": "xizhen_huang",
      "userId": "01408731616131829965"
     },
     "user_tz": 420
    },
    "id": "HMad-ax9rbmK",
    "outputId": "29eb3e8c-f011-4733-aa58-27d6d79568d4"
   },
   "outputs": [
    {
     "name": "stdout",
     "output_type": "stream",
     "text": [
      "Optimization terminated successfully.\n",
      "         Current function value: 0.443359\n",
      "         Iterations 7\n",
      "                           Logit Regression Results                           \n",
      "==============================================================================\n",
      "Dep. Variable:                  LBC_2   No. Observations:                 1180\n",
      "Model:                          Logit   Df Residuals:                     1169\n",
      "Method:                           MLE   Df Model:                           10\n",
      "Date:                Sun, 11 May 2025   Pseudo R-squ.:                  0.3604\n",
      "Time:                        17:38:46   Log-Likelihood:                -523.16\n",
      "converged:                       True   LL-Null:                       -817.91\n",
      "Covariance Type:            nonrobust   LLR p-value:                3.128e-120\n",
      "===================================================================================\n",
      "                      coef    std err          z      P>|z|      [0.025      0.975]\n",
      "-----------------------------------------------------------------------------------\n",
      "Intercept           0.2912      0.329      0.886      0.376      -0.353       0.935\n",
      "lag_GDPGR          -0.5682      0.097     -5.853      0.000      -0.758      -0.378\n",
      "lag_GDPPC          -0.5417      0.123     -4.399      0.000      -0.783      -0.300\n",
      "lag_IR              0.5793      0.081      7.191      0.000       0.421       0.737\n",
      "lag_XM             -1.0526      0.103    -10.266      0.000      -1.254      -0.852\n",
      "lag_CPGDP           0.8362      0.117      7.152      0.000       0.607       1.065\n",
      "lag_CG             -0.1623      0.088     -1.835      0.066      -0.336       0.011\n",
      "lag_CPG             0.8562      0.125      6.849      0.000       0.611       1.101\n",
      "lag_kai             3.0113      0.315      9.572      0.000       2.395       3.628\n",
      "lag_INS            -0.3779      0.150     -2.512      0.012      -0.673      -0.083\n",
      "lag_kai:lag_INS    -1.1437      0.141     -8.116      0.000      -1.420      -0.868\n",
      "===================================================================================\n"
     ]
    }
   ],
   "source": [
    "model_test = logit(\"LBC_2 ~ lag_GDPGR + lag_GDPPC + lag_IR  + lag_XM + lag_CPGDP + lag_CG + lag_CPG +  lag_kai + lag_INS + lag_kai:lag_INS \", data=df_prep_scaled)\n",
    "# result = model_test.fit_regularized(alpha=0.1, method='l1') # alpha = 0.1, method='l1' are examples only, adjust it for your need\n",
    "result = model_test.fit()\n",
    "print(result.summary())"
   ]
  },
  {
   "cell_type": "code",
   "execution_count": 277,
   "metadata": {},
   "outputs": [
    {
     "data": {
      "text/html": [
       "<style>#sk-container-id-3 {\n",
       "  /* Definition of color scheme common for light and dark mode */\n",
       "  --sklearn-color-text: #000;\n",
       "  --sklearn-color-text-muted: #666;\n",
       "  --sklearn-color-line: gray;\n",
       "  /* Definition of color scheme for unfitted estimators */\n",
       "  --sklearn-color-unfitted-level-0: #fff5e6;\n",
       "  --sklearn-color-unfitted-level-1: #f6e4d2;\n",
       "  --sklearn-color-unfitted-level-2: #ffe0b3;\n",
       "  --sklearn-color-unfitted-level-3: chocolate;\n",
       "  /* Definition of color scheme for fitted estimators */\n",
       "  --sklearn-color-fitted-level-0: #f0f8ff;\n",
       "  --sklearn-color-fitted-level-1: #d4ebff;\n",
       "  --sklearn-color-fitted-level-2: #b3dbfd;\n",
       "  --sklearn-color-fitted-level-3: cornflowerblue;\n",
       "\n",
       "  /* Specific color for light theme */\n",
       "  --sklearn-color-text-on-default-background: var(--sg-text-color, var(--theme-code-foreground, var(--jp-content-font-color1, black)));\n",
       "  --sklearn-color-background: var(--sg-background-color, var(--theme-background, var(--jp-layout-color0, white)));\n",
       "  --sklearn-color-border-box: var(--sg-text-color, var(--theme-code-foreground, var(--jp-content-font-color1, black)));\n",
       "  --sklearn-color-icon: #696969;\n",
       "\n",
       "  @media (prefers-color-scheme: dark) {\n",
       "    /* Redefinition of color scheme for dark theme */\n",
       "    --sklearn-color-text-on-default-background: var(--sg-text-color, var(--theme-code-foreground, var(--jp-content-font-color1, white)));\n",
       "    --sklearn-color-background: var(--sg-background-color, var(--theme-background, var(--jp-layout-color0, #111)));\n",
       "    --sklearn-color-border-box: var(--sg-text-color, var(--theme-code-foreground, var(--jp-content-font-color1, white)));\n",
       "    --sklearn-color-icon: #878787;\n",
       "  }\n",
       "}\n",
       "\n",
       "#sk-container-id-3 {\n",
       "  color: var(--sklearn-color-text);\n",
       "}\n",
       "\n",
       "#sk-container-id-3 pre {\n",
       "  padding: 0;\n",
       "}\n",
       "\n",
       "#sk-container-id-3 input.sk-hidden--visually {\n",
       "  border: 0;\n",
       "  clip: rect(1px 1px 1px 1px);\n",
       "  clip: rect(1px, 1px, 1px, 1px);\n",
       "  height: 1px;\n",
       "  margin: -1px;\n",
       "  overflow: hidden;\n",
       "  padding: 0;\n",
       "  position: absolute;\n",
       "  width: 1px;\n",
       "}\n",
       "\n",
       "#sk-container-id-3 div.sk-dashed-wrapped {\n",
       "  border: 1px dashed var(--sklearn-color-line);\n",
       "  margin: 0 0.4em 0.5em 0.4em;\n",
       "  box-sizing: border-box;\n",
       "  padding-bottom: 0.4em;\n",
       "  background-color: var(--sklearn-color-background);\n",
       "}\n",
       "\n",
       "#sk-container-id-3 div.sk-container {\n",
       "  /* jupyter's `normalize.less` sets `[hidden] { display: none; }`\n",
       "     but bootstrap.min.css set `[hidden] { display: none !important; }`\n",
       "     so we also need the `!important` here to be able to override the\n",
       "     default hidden behavior on the sphinx rendered scikit-learn.org.\n",
       "     See: https://github.com/scikit-learn/scikit-learn/issues/21755 */\n",
       "  display: inline-block !important;\n",
       "  position: relative;\n",
       "}\n",
       "\n",
       "#sk-container-id-3 div.sk-text-repr-fallback {\n",
       "  display: none;\n",
       "}\n",
       "\n",
       "div.sk-parallel-item,\n",
       "div.sk-serial,\n",
       "div.sk-item {\n",
       "  /* draw centered vertical line to link estimators */\n",
       "  background-image: linear-gradient(var(--sklearn-color-text-on-default-background), var(--sklearn-color-text-on-default-background));\n",
       "  background-size: 2px 100%;\n",
       "  background-repeat: no-repeat;\n",
       "  background-position: center center;\n",
       "}\n",
       "\n",
       "/* Parallel-specific style estimator block */\n",
       "\n",
       "#sk-container-id-3 div.sk-parallel-item::after {\n",
       "  content: \"\";\n",
       "  width: 100%;\n",
       "  border-bottom: 2px solid var(--sklearn-color-text-on-default-background);\n",
       "  flex-grow: 1;\n",
       "}\n",
       "\n",
       "#sk-container-id-3 div.sk-parallel {\n",
       "  display: flex;\n",
       "  align-items: stretch;\n",
       "  justify-content: center;\n",
       "  background-color: var(--sklearn-color-background);\n",
       "  position: relative;\n",
       "}\n",
       "\n",
       "#sk-container-id-3 div.sk-parallel-item {\n",
       "  display: flex;\n",
       "  flex-direction: column;\n",
       "}\n",
       "\n",
       "#sk-container-id-3 div.sk-parallel-item:first-child::after {\n",
       "  align-self: flex-end;\n",
       "  width: 50%;\n",
       "}\n",
       "\n",
       "#sk-container-id-3 div.sk-parallel-item:last-child::after {\n",
       "  align-self: flex-start;\n",
       "  width: 50%;\n",
       "}\n",
       "\n",
       "#sk-container-id-3 div.sk-parallel-item:only-child::after {\n",
       "  width: 0;\n",
       "}\n",
       "\n",
       "/* Serial-specific style estimator block */\n",
       "\n",
       "#sk-container-id-3 div.sk-serial {\n",
       "  display: flex;\n",
       "  flex-direction: column;\n",
       "  align-items: center;\n",
       "  background-color: var(--sklearn-color-background);\n",
       "  padding-right: 1em;\n",
       "  padding-left: 1em;\n",
       "}\n",
       "\n",
       "\n",
       "/* Toggleable style: style used for estimator/Pipeline/ColumnTransformer box that is\n",
       "clickable and can be expanded/collapsed.\n",
       "- Pipeline and ColumnTransformer use this feature and define the default style\n",
       "- Estimators will overwrite some part of the style using the `sk-estimator` class\n",
       "*/\n",
       "\n",
       "/* Pipeline and ColumnTransformer style (default) */\n",
       "\n",
       "#sk-container-id-3 div.sk-toggleable {\n",
       "  /* Default theme specific background. It is overwritten whether we have a\n",
       "  specific estimator or a Pipeline/ColumnTransformer */\n",
       "  background-color: var(--sklearn-color-background);\n",
       "}\n",
       "\n",
       "/* Toggleable label */\n",
       "#sk-container-id-3 label.sk-toggleable__label {\n",
       "  cursor: pointer;\n",
       "  display: flex;\n",
       "  width: 100%;\n",
       "  margin-bottom: 0;\n",
       "  padding: 0.5em;\n",
       "  box-sizing: border-box;\n",
       "  text-align: center;\n",
       "  align-items: start;\n",
       "  justify-content: space-between;\n",
       "  gap: 0.5em;\n",
       "}\n",
       "\n",
       "#sk-container-id-3 label.sk-toggleable__label .caption {\n",
       "  font-size: 0.6rem;\n",
       "  font-weight: lighter;\n",
       "  color: var(--sklearn-color-text-muted);\n",
       "}\n",
       "\n",
       "#sk-container-id-3 label.sk-toggleable__label-arrow:before {\n",
       "  /* Arrow on the left of the label */\n",
       "  content: \"▸\";\n",
       "  float: left;\n",
       "  margin-right: 0.25em;\n",
       "  color: var(--sklearn-color-icon);\n",
       "}\n",
       "\n",
       "#sk-container-id-3 label.sk-toggleable__label-arrow:hover:before {\n",
       "  color: var(--sklearn-color-text);\n",
       "}\n",
       "\n",
       "/* Toggleable content - dropdown */\n",
       "\n",
       "#sk-container-id-3 div.sk-toggleable__content {\n",
       "  max-height: 0;\n",
       "  max-width: 0;\n",
       "  overflow: hidden;\n",
       "  text-align: left;\n",
       "  /* unfitted */\n",
       "  background-color: var(--sklearn-color-unfitted-level-0);\n",
       "}\n",
       "\n",
       "#sk-container-id-3 div.sk-toggleable__content.fitted {\n",
       "  /* fitted */\n",
       "  background-color: var(--sklearn-color-fitted-level-0);\n",
       "}\n",
       "\n",
       "#sk-container-id-3 div.sk-toggleable__content pre {\n",
       "  margin: 0.2em;\n",
       "  border-radius: 0.25em;\n",
       "  color: var(--sklearn-color-text);\n",
       "  /* unfitted */\n",
       "  background-color: var(--sklearn-color-unfitted-level-0);\n",
       "}\n",
       "\n",
       "#sk-container-id-3 div.sk-toggleable__content.fitted pre {\n",
       "  /* unfitted */\n",
       "  background-color: var(--sklearn-color-fitted-level-0);\n",
       "}\n",
       "\n",
       "#sk-container-id-3 input.sk-toggleable__control:checked~div.sk-toggleable__content {\n",
       "  /* Expand drop-down */\n",
       "  max-height: 200px;\n",
       "  max-width: 100%;\n",
       "  overflow: auto;\n",
       "}\n",
       "\n",
       "#sk-container-id-3 input.sk-toggleable__control:checked~label.sk-toggleable__label-arrow:before {\n",
       "  content: \"▾\";\n",
       "}\n",
       "\n",
       "/* Pipeline/ColumnTransformer-specific style */\n",
       "\n",
       "#sk-container-id-3 div.sk-label input.sk-toggleable__control:checked~label.sk-toggleable__label {\n",
       "  color: var(--sklearn-color-text);\n",
       "  background-color: var(--sklearn-color-unfitted-level-2);\n",
       "}\n",
       "\n",
       "#sk-container-id-3 div.sk-label.fitted input.sk-toggleable__control:checked~label.sk-toggleable__label {\n",
       "  background-color: var(--sklearn-color-fitted-level-2);\n",
       "}\n",
       "\n",
       "/* Estimator-specific style */\n",
       "\n",
       "/* Colorize estimator box */\n",
       "#sk-container-id-3 div.sk-estimator input.sk-toggleable__control:checked~label.sk-toggleable__label {\n",
       "  /* unfitted */\n",
       "  background-color: var(--sklearn-color-unfitted-level-2);\n",
       "}\n",
       "\n",
       "#sk-container-id-3 div.sk-estimator.fitted input.sk-toggleable__control:checked~label.sk-toggleable__label {\n",
       "  /* fitted */\n",
       "  background-color: var(--sklearn-color-fitted-level-2);\n",
       "}\n",
       "\n",
       "#sk-container-id-3 div.sk-label label.sk-toggleable__label,\n",
       "#sk-container-id-3 div.sk-label label {\n",
       "  /* The background is the default theme color */\n",
       "  color: var(--sklearn-color-text-on-default-background);\n",
       "}\n",
       "\n",
       "/* On hover, darken the color of the background */\n",
       "#sk-container-id-3 div.sk-label:hover label.sk-toggleable__label {\n",
       "  color: var(--sklearn-color-text);\n",
       "  background-color: var(--sklearn-color-unfitted-level-2);\n",
       "}\n",
       "\n",
       "/* Label box, darken color on hover, fitted */\n",
       "#sk-container-id-3 div.sk-label.fitted:hover label.sk-toggleable__label.fitted {\n",
       "  color: var(--sklearn-color-text);\n",
       "  background-color: var(--sklearn-color-fitted-level-2);\n",
       "}\n",
       "\n",
       "/* Estimator label */\n",
       "\n",
       "#sk-container-id-3 div.sk-label label {\n",
       "  font-family: monospace;\n",
       "  font-weight: bold;\n",
       "  display: inline-block;\n",
       "  line-height: 1.2em;\n",
       "}\n",
       "\n",
       "#sk-container-id-3 div.sk-label-container {\n",
       "  text-align: center;\n",
       "}\n",
       "\n",
       "/* Estimator-specific */\n",
       "#sk-container-id-3 div.sk-estimator {\n",
       "  font-family: monospace;\n",
       "  border: 1px dotted var(--sklearn-color-border-box);\n",
       "  border-radius: 0.25em;\n",
       "  box-sizing: border-box;\n",
       "  margin-bottom: 0.5em;\n",
       "  /* unfitted */\n",
       "  background-color: var(--sklearn-color-unfitted-level-0);\n",
       "}\n",
       "\n",
       "#sk-container-id-3 div.sk-estimator.fitted {\n",
       "  /* fitted */\n",
       "  background-color: var(--sklearn-color-fitted-level-0);\n",
       "}\n",
       "\n",
       "/* on hover */\n",
       "#sk-container-id-3 div.sk-estimator:hover {\n",
       "  /* unfitted */\n",
       "  background-color: var(--sklearn-color-unfitted-level-2);\n",
       "}\n",
       "\n",
       "#sk-container-id-3 div.sk-estimator.fitted:hover {\n",
       "  /* fitted */\n",
       "  background-color: var(--sklearn-color-fitted-level-2);\n",
       "}\n",
       "\n",
       "/* Specification for estimator info (e.g. \"i\" and \"?\") */\n",
       "\n",
       "/* Common style for \"i\" and \"?\" */\n",
       "\n",
       ".sk-estimator-doc-link,\n",
       "a:link.sk-estimator-doc-link,\n",
       "a:visited.sk-estimator-doc-link {\n",
       "  float: right;\n",
       "  font-size: smaller;\n",
       "  line-height: 1em;\n",
       "  font-family: monospace;\n",
       "  background-color: var(--sklearn-color-background);\n",
       "  border-radius: 1em;\n",
       "  height: 1em;\n",
       "  width: 1em;\n",
       "  text-decoration: none !important;\n",
       "  margin-left: 0.5em;\n",
       "  text-align: center;\n",
       "  /* unfitted */\n",
       "  border: var(--sklearn-color-unfitted-level-1) 1pt solid;\n",
       "  color: var(--sklearn-color-unfitted-level-1);\n",
       "}\n",
       "\n",
       ".sk-estimator-doc-link.fitted,\n",
       "a:link.sk-estimator-doc-link.fitted,\n",
       "a:visited.sk-estimator-doc-link.fitted {\n",
       "  /* fitted */\n",
       "  border: var(--sklearn-color-fitted-level-1) 1pt solid;\n",
       "  color: var(--sklearn-color-fitted-level-1);\n",
       "}\n",
       "\n",
       "/* On hover */\n",
       "div.sk-estimator:hover .sk-estimator-doc-link:hover,\n",
       ".sk-estimator-doc-link:hover,\n",
       "div.sk-label-container:hover .sk-estimator-doc-link:hover,\n",
       ".sk-estimator-doc-link:hover {\n",
       "  /* unfitted */\n",
       "  background-color: var(--sklearn-color-unfitted-level-3);\n",
       "  color: var(--sklearn-color-background);\n",
       "  text-decoration: none;\n",
       "}\n",
       "\n",
       "div.sk-estimator.fitted:hover .sk-estimator-doc-link.fitted:hover,\n",
       ".sk-estimator-doc-link.fitted:hover,\n",
       "div.sk-label-container:hover .sk-estimator-doc-link.fitted:hover,\n",
       ".sk-estimator-doc-link.fitted:hover {\n",
       "  /* fitted */\n",
       "  background-color: var(--sklearn-color-fitted-level-3);\n",
       "  color: var(--sklearn-color-background);\n",
       "  text-decoration: none;\n",
       "}\n",
       "\n",
       "/* Span, style for the box shown on hovering the info icon */\n",
       ".sk-estimator-doc-link span {\n",
       "  display: none;\n",
       "  z-index: 9999;\n",
       "  position: relative;\n",
       "  font-weight: normal;\n",
       "  right: .2ex;\n",
       "  padding: .5ex;\n",
       "  margin: .5ex;\n",
       "  width: min-content;\n",
       "  min-width: 20ex;\n",
       "  max-width: 50ex;\n",
       "  color: var(--sklearn-color-text);\n",
       "  box-shadow: 2pt 2pt 4pt #999;\n",
       "  /* unfitted */\n",
       "  background: var(--sklearn-color-unfitted-level-0);\n",
       "  border: .5pt solid var(--sklearn-color-unfitted-level-3);\n",
       "}\n",
       "\n",
       ".sk-estimator-doc-link.fitted span {\n",
       "  /* fitted */\n",
       "  background: var(--sklearn-color-fitted-level-0);\n",
       "  border: var(--sklearn-color-fitted-level-3);\n",
       "}\n",
       "\n",
       ".sk-estimator-doc-link:hover span {\n",
       "  display: block;\n",
       "}\n",
       "\n",
       "/* \"?\"-specific style due to the `<a>` HTML tag */\n",
       "\n",
       "#sk-container-id-3 a.estimator_doc_link {\n",
       "  float: right;\n",
       "  font-size: 1rem;\n",
       "  line-height: 1em;\n",
       "  font-family: monospace;\n",
       "  background-color: var(--sklearn-color-background);\n",
       "  border-radius: 1rem;\n",
       "  height: 1rem;\n",
       "  width: 1rem;\n",
       "  text-decoration: none;\n",
       "  /* unfitted */\n",
       "  color: var(--sklearn-color-unfitted-level-1);\n",
       "  border: var(--sklearn-color-unfitted-level-1) 1pt solid;\n",
       "}\n",
       "\n",
       "#sk-container-id-3 a.estimator_doc_link.fitted {\n",
       "  /* fitted */\n",
       "  border: var(--sklearn-color-fitted-level-1) 1pt solid;\n",
       "  color: var(--sklearn-color-fitted-level-1);\n",
       "}\n",
       "\n",
       "/* On hover */\n",
       "#sk-container-id-3 a.estimator_doc_link:hover {\n",
       "  /* unfitted */\n",
       "  background-color: var(--sklearn-color-unfitted-level-3);\n",
       "  color: var(--sklearn-color-background);\n",
       "  text-decoration: none;\n",
       "}\n",
       "\n",
       "#sk-container-id-3 a.estimator_doc_link.fitted:hover {\n",
       "  /* fitted */\n",
       "  background-color: var(--sklearn-color-fitted-level-3);\n",
       "}\n",
       "</style><div id=\"sk-container-id-3\" class=\"sk-top-container\"><div class=\"sk-text-repr-fallback\"><pre>LogisticRegression(class_weight=&#x27;balanced&#x27;, solver=&#x27;liblinear&#x27;)</pre><b>In a Jupyter environment, please rerun this cell to show the HTML representation or trust the notebook. <br />On GitHub, the HTML representation is unable to render, please try loading this page with nbviewer.org.</b></div><div class=\"sk-container\" hidden><div class=\"sk-item\"><div class=\"sk-estimator fitted sk-toggleable\"><input class=\"sk-toggleable__control sk-hidden--visually\" id=\"sk-estimator-id-3\" type=\"checkbox\" checked><label for=\"sk-estimator-id-3\" class=\"sk-toggleable__label fitted sk-toggleable__label-arrow\"><div><div>LogisticRegression</div></div><div><a class=\"sk-estimator-doc-link fitted\" rel=\"noreferrer\" target=\"_blank\" href=\"https://scikit-learn.org/1.6/modules/generated/sklearn.linear_model.LogisticRegression.html\">?<span>Documentation for LogisticRegression</span></a><span class=\"sk-estimator-doc-link fitted\">i<span>Fitted</span></span></div></label><div class=\"sk-toggleable__content fitted\"><pre>LogisticRegression(class_weight=&#x27;balanced&#x27;, solver=&#x27;liblinear&#x27;)</pre></div> </div></div></div></div>"
      ],
      "text/plain": [
       "LogisticRegression(class_weight='balanced', solver='liblinear')"
      ]
     },
     "execution_count": 277,
     "metadata": {},
     "output_type": "execute_result"
    }
   ],
   "source": [
    "from sklearn.linear_model import LogisticRegression\n",
    "\n",
    "model = LogisticRegression(class_weight='balanced', solver='liblinear')  # liblinear supports small data\n",
    "model.fit(X, y)"
   ]
  },
  {
   "cell_type": "code",
   "execution_count": 271,
   "metadata": {},
   "outputs": [],
   "source": [
    "df_prep['lag_kai:lag_INS'] = df_prep['lag_kai'] * df_prep['lag_INS']"
   ]
  },
  {
   "cell_type": "code",
   "execution_count": 273,
   "metadata": {},
   "outputs": [
    {
     "data": {
      "text/plain": [
       "Index(['LBC_2', 'lag_eqi', 'lag_eqo', 'lag_dbi', 'lag_dbo', 'lag_fii',\n",
       "       'lag_fio', 'lag_kai', 'lag_kao', 'lag_INS', 'lag_GDPGR', 'lag_GDPPC',\n",
       "       'lag_IR', 'lag_XM', 'lag_M2R', 'lag_CPGDP', 'lag_CG', 'lag_CPG',\n",
       "       'lag_kai:lag_INS'],\n",
       "      dtype='object')"
      ]
     },
     "execution_count": 273,
     "metadata": {},
     "output_type": "execute_result"
    }
   ],
   "source": [
    "df_prep.columns"
   ]
  },
  {
   "cell_type": "code",
   "execution_count": 275,
   "metadata": {},
   "outputs": [],
   "source": [
    "X = df_prep[['lag_kai','lag_INS', 'lag_GDPGR', 'lag_GDPPC',\n",
    "       'lag_IR', 'lag_XM', 'lag_CPGDP', 'lag_CG', 'lag_CPG', 'lag_kai:lag_INS']]\n",
    "y = df_prep['LBC_2']"
   ]
  },
  {
   "cell_type": "code",
   "execution_count": 279,
   "metadata": {},
   "outputs": [
    {
     "name": "stdout",
     "output_type": "stream",
     "text": [
      "LogisticRegression(class_weight='balanced', solver='liblinear')\n"
     ]
    }
   ],
   "source": [
    "print(model)"
   ]
  },
  {
   "cell_type": "code",
   "execution_count": 281,
   "metadata": {},
   "outputs": [
    {
     "data": {
      "text/plain": [
       "array([ 3.92107801e+00,  2.75606318e-01, -1.32305958e-01, -7.76682976e-05,\n",
       "        2.13008533e-02, -1.79162931e-01,  1.89754421e-02, -1.71240159e-02,\n",
       "        1.26771237e-01, -1.39099228e+00])"
      ]
     },
     "execution_count": 281,
     "metadata": {},
     "output_type": "execute_result"
    }
   ],
   "source": [
    " model.coef_[0]"
   ]
  },
  {
   "cell_type": "code",
   "execution_count": 283,
   "metadata": {},
   "outputs": [],
   "source": [
    "from scipy.stats import norm\n",
    "\n",
    "# Get model coefficients and intercept\n",
    "coefs = np.concatenate([model.intercept_, model.coef_.flatten()])\n",
    "\n",
    "# Add intercept column to X\n",
    "X_design = np.hstack((np.ones((X.shape[0], 1)), X.values))\n",
    "\n",
    "# Predicted probabilities\n",
    "preds = model.predict_proba(X)[:, 1]\n",
    "\n",
    "# Diagonal weight matrix\n",
    "V = np.diag(preds * (1 - preds))\n",
    "\n",
    "# Hessian approximation: (X'VX)^-1\n",
    "cov_matrix = np.linalg.inv(X_design.T @ V @ X_design)\n",
    "\n",
    "# Standard errors\n",
    "standard_errors = np.sqrt(np.diag(cov_matrix))\n",
    "\n",
    "# Wald z-scores\n",
    "z_scores = coefs / standard_errors\n",
    "\n",
    "# Two-tailed p-values\n",
    "p_values = 2 * (1 - norm.cdf(np.abs(z_scores)))\n",
    "\n",
    "# Odds ratios\n",
    "odds_ratios = np.exp(coefs)\n",
    "\n",
    "# Variable names (add intercept manually)\n",
    "var_names = ['Intercept'] + list(X.columns)\n",
    "\n",
    "# Combine into DataFrame\n",
    "results_df = pd.DataFrame({\n",
    "    'Variable': var_names,\n",
    "    'Coefficient': coefs,\n",
    "    'Std. Error': standard_errors,\n",
    "    'z': z_scores,\n",
    "    'P>|z|': p_values,\n",
    "    'Odds Ratio': odds_ratios\n",
    "}).round(4)"
   ]
  },
  {
   "cell_type": "code",
   "execution_count": 285,
   "metadata": {},
   "outputs": [
    {
     "data": {
      "text/html": [
       "<div>\n",
       "<style scoped>\n",
       "    .dataframe tbody tr th:only-of-type {\n",
       "        vertical-align: middle;\n",
       "    }\n",
       "\n",
       "    .dataframe tbody tr th {\n",
       "        vertical-align: top;\n",
       "    }\n",
       "\n",
       "    .dataframe thead th {\n",
       "        text-align: right;\n",
       "    }\n",
       "</style>\n",
       "<table border=\"1\" class=\"dataframe\">\n",
       "  <thead>\n",
       "    <tr style=\"text-align: right;\">\n",
       "      <th></th>\n",
       "      <th>Variable</th>\n",
       "      <th>Coefficient</th>\n",
       "      <th>Std. Error</th>\n",
       "      <th>z</th>\n",
       "      <th>P&gt;|z|</th>\n",
       "      <th>Odds Ratio</th>\n",
       "    </tr>\n",
       "  </thead>\n",
       "  <tbody>\n",
       "    <tr>\n",
       "      <th>0</th>\n",
       "      <td>Intercept</td>\n",
       "      <td>-2.3588</td>\n",
       "      <td>0.5697</td>\n",
       "      <td>-4.1406</td>\n",
       "      <td>0.0000</td>\n",
       "      <td>0.0945</td>\n",
       "    </tr>\n",
       "    <tr>\n",
       "      <th>1</th>\n",
       "      <td>lag_kai</td>\n",
       "      <td>3.9211</td>\n",
       "      <td>0.9418</td>\n",
       "      <td>4.1635</td>\n",
       "      <td>0.0000</td>\n",
       "      <td>50.4548</td>\n",
       "    </tr>\n",
       "    <tr>\n",
       "      <th>2</th>\n",
       "      <td>lag_INS</td>\n",
       "      <td>0.2756</td>\n",
       "      <td>0.2204</td>\n",
       "      <td>1.2505</td>\n",
       "      <td>0.2111</td>\n",
       "      <td>1.3173</td>\n",
       "    </tr>\n",
       "    <tr>\n",
       "      <th>3</th>\n",
       "      <td>lag_GDPGR</td>\n",
       "      <td>-0.1323</td>\n",
       "      <td>0.0283</td>\n",
       "      <td>-4.6691</td>\n",
       "      <td>0.0000</td>\n",
       "      <td>0.8761</td>\n",
       "    </tr>\n",
       "    <tr>\n",
       "      <th>4</th>\n",
       "      <td>lag_GDPPC</td>\n",
       "      <td>-0.0001</td>\n",
       "      <td>0.0000</td>\n",
       "      <td>-3.1962</td>\n",
       "      <td>0.0014</td>\n",
       "      <td>0.9999</td>\n",
       "    </tr>\n",
       "    <tr>\n",
       "      <th>5</th>\n",
       "      <td>lag_IR</td>\n",
       "      <td>0.0213</td>\n",
       "      <td>0.0091</td>\n",
       "      <td>2.3472</td>\n",
       "      <td>0.0189</td>\n",
       "      <td>1.0215</td>\n",
       "    </tr>\n",
       "    <tr>\n",
       "      <th>6</th>\n",
       "      <td>lag_XM</td>\n",
       "      <td>-0.1792</td>\n",
       "      <td>0.0265</td>\n",
       "      <td>-6.7698</td>\n",
       "      <td>0.0000</td>\n",
       "      <td>0.8360</td>\n",
       "    </tr>\n",
       "    <tr>\n",
       "      <th>7</th>\n",
       "      <td>lag_CPGDP</td>\n",
       "      <td>0.0190</td>\n",
       "      <td>0.0043</td>\n",
       "      <td>4.4463</td>\n",
       "      <td>0.0000</td>\n",
       "      <td>1.0192</td>\n",
       "    </tr>\n",
       "    <tr>\n",
       "      <th>8</th>\n",
       "      <td>lag_CG</td>\n",
       "      <td>-0.0171</td>\n",
       "      <td>0.0140</td>\n",
       "      <td>-1.2232</td>\n",
       "      <td>0.2213</td>\n",
       "      <td>0.9830</td>\n",
       "    </tr>\n",
       "    <tr>\n",
       "      <th>9</th>\n",
       "      <td>lag_CPG</td>\n",
       "      <td>0.1268</td>\n",
       "      <td>0.0272</td>\n",
       "      <td>4.6545</td>\n",
       "      <td>0.0000</td>\n",
       "      <td>1.1352</td>\n",
       "    </tr>\n",
       "    <tr>\n",
       "      <th>10</th>\n",
       "      <td>lag_kai:lag_INS</td>\n",
       "      <td>-1.3910</td>\n",
       "      <td>0.4289</td>\n",
       "      <td>-3.2435</td>\n",
       "      <td>0.0012</td>\n",
       "      <td>0.2488</td>\n",
       "    </tr>\n",
       "  </tbody>\n",
       "</table>\n",
       "</div>"
      ],
      "text/plain": [
       "           Variable  Coefficient  Std. Error       z   P>|z|  Odds Ratio\n",
       "0         Intercept      -2.3588      0.5697 -4.1406  0.0000      0.0945\n",
       "1           lag_kai       3.9211      0.9418  4.1635  0.0000     50.4548\n",
       "2           lag_INS       0.2756      0.2204  1.2505  0.2111      1.3173\n",
       "3         lag_GDPGR      -0.1323      0.0283 -4.6691  0.0000      0.8761\n",
       "4         lag_GDPPC      -0.0001      0.0000 -3.1962  0.0014      0.9999\n",
       "5            lag_IR       0.0213      0.0091  2.3472  0.0189      1.0215\n",
       "6            lag_XM      -0.1792      0.0265 -6.7698  0.0000      0.8360\n",
       "7         lag_CPGDP       0.0190      0.0043  4.4463  0.0000      1.0192\n",
       "8            lag_CG      -0.0171      0.0140 -1.2232  0.2213      0.9830\n",
       "9           lag_CPG       0.1268      0.0272  4.6545  0.0000      1.1352\n",
       "10  lag_kai:lag_INS      -1.3910      0.4289 -3.2435  0.0012      0.2488"
      ]
     },
     "execution_count": 285,
     "metadata": {},
     "output_type": "execute_result"
    }
   ],
   "source": [
    "results_df"
   ]
  },
  {
   "cell_type": "code",
   "execution_count": null,
   "metadata": {},
   "outputs": [],
   "source": []
  },
  {
   "cell_type": "code",
   "execution_count": null,
   "metadata": {},
   "outputs": [],
   "source": []
  }
 ],
 "metadata": {
  "colab": {
   "authorship_tag": "ABX9TyOvxCTcUX8in5RhP3qPvRMP",
   "provenance": []
  },
  "kernelspec": {
   "display_name": "Python [conda env:base] *",
   "language": "python",
   "name": "conda-base-py"
  },
  "language_info": {
   "codemirror_mode": {
    "name": "ipython",
    "version": 3
   },
   "file_extension": ".py",
   "mimetype": "text/x-python",
   "name": "python",
   "nbconvert_exporter": "python",
   "pygments_lexer": "ipython3",
   "version": "3.11.5"
  }
 },
 "nbformat": 4,
 "nbformat_minor": 4
}
